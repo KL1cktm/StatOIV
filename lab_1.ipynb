{
 "cells": [
  {
   "cell_type": "code",
   "id": "initial_id",
   "metadata": {
    "collapsed": true,
    "ExecuteTime": {
     "end_time": "2024-09-18T18:41:03.246438Z",
     "start_time": "2024-09-18T18:41:03.221422Z"
    }
   },
   "source": [
    "import pandas as pd\n",
    "df = pd.read_csv('phones_data.csv')\n",
    "print(df)"
   ],
   "outputs": [
    {
     "name": "stdout",
     "output_type": "stream",
     "text": [
      "        brand_name                                    model_name       os  \\\n",
      "0          ALCATEL          1 1/8GB Bluish Black (5033D-2JALUAA)  Android   \n",
      "1          ALCATEL  1 5033D 1/16GB Volcano Black (5033D-2LALUAF)  Android   \n",
      "2          ALCATEL  1 5033D 1/16GB Volcano Black (5033D-2LALUAF)  Android   \n",
      "3          ALCATEL  1 5033D 1/16GB Volcano Black (5033D-2LALUAF)  Android   \n",
      "4            Nokia                           1.3 1/16GB Charcoal  Android   \n",
      "...            ...                                           ...      ...   \n",
      "1219         Apple               iPhone XS Max 64GB Gold (MT522)      iOS   \n",
      "1220         Apple      iPhone XS Max Dual Sim 64GB Gold (MT732)      iOS   \n",
      "1221        HUAWEI              nova 5T 6/128GB Black (51094MEU)  Android   \n",
      "1222           ZTE              nubia Red Magic 5G 8/128GB Black  Android   \n",
      "1223  Sigma mobile                             x-style 35 Screen      NaN   \n",
      "\n",
      "      popularity  best_price  lowest_price  highest_price  sellers_amount  \\\n",
      "0            422      1690.0        1529.0         1819.0              36   \n",
      "1            323      1803.0        1659.0         2489.0              36   \n",
      "2            299      1803.0        1659.0         2489.0              36   \n",
      "3            287      1803.0        1659.0         2489.0              36   \n",
      "4           1047      1999.0           NaN            NaN              10   \n",
      "...          ...         ...           ...            ...             ...   \n",
      "1219        1101     22685.0       16018.0        27900.0              61   \n",
      "1220         530     24600.0       21939.0        33720.0              28   \n",
      "1221        1174      8804.0        7999.0         9999.0              18   \n",
      "1222         752     18755.0       18500.0        19010.0               2   \n",
      "1223         952       907.0         785.0          944.0              75   \n",
      "\n",
      "      screen_size  memory_size  battery_size release_date  \n",
      "0            5.00          8.0        2000.0      10-2020  \n",
      "1            5.00         16.0        2000.0       9-2020  \n",
      "2            5.00         16.0        2000.0       9-2020  \n",
      "3            5.00         16.0        2000.0       9-2020  \n",
      "4            5.71         16.0        3000.0       4-2020  \n",
      "...           ...          ...           ...          ...  \n",
      "1219         6.50         64.0        3174.0       9-2018  \n",
      "1220         6.50         64.0        3174.0       9-2018  \n",
      "1221         6.26        128.0        3750.0      11-2019  \n",
      "1222         6.65        128.0        4500.0      10-2020  \n",
      "1223         3.50          NaN        1750.0       1-2020  \n",
      "\n",
      "[1224 rows x 12 columns]\n"
     ]
    }
   ],
   "execution_count": 33
  },
  {
   "metadata": {
    "ExecuteTime": {
     "end_time": "2024-09-18T18:41:05.557408Z",
     "start_time": "2024-09-18T18:41:05.541922Z"
    }
   },
   "cell_type": "code",
   "source": "df[\"model_name\"], uniq_names = df[\"model_name\"].factorize()",
   "id": "a763c2d553acfda7",
   "outputs": [],
   "execution_count": 34
  },
  {
   "metadata": {
    "ExecuteTime": {
     "end_time": "2024-09-18T18:41:07.861099Z",
     "start_time": "2024-09-18T18:41:07.839111Z"
    }
   },
   "cell_type": "code",
   "source": [
    "df[\"model_name\"].astype('int64')\n",
    "df[\"popularity\"].astype('int64')\n",
    "df[\"best_price\"].astype('float')\n",
    "df[\"lowest_price\"].astype('float')\n",
    "df[\"highest_price\"].astype('float')\n",
    "df[\"sellers_amount\"].astype('int64')\n",
    "df[\"screen_size\"].astype('float')\n",
    "df[\"memory_size\"].astype('float')\n",
    "df[\"battery_size\"].astype('float')\n",
    "\n",
    "df[\"brand_name\"] = pd.to_numeric(df[\"brand_name\"], errors='coerce')\n",
    "df[\"os\"] = pd.to_numeric(df[\"os\"], errors='coerce')\n",
    "df[\"release_date\"] = pd.to_numeric(df[\"release_date\"], errors='coerce')\n",
    "\n",
    "\n",
    "\n",
    "print(df[\"model_name\"].dtype)\n",
    "print(df[\"popularity\"].dtype)\n",
    "print(df[\"best_price\"].dtype)\n",
    "print(df[\"lowest_price\"].dtype)\n",
    "print(df[\"highest_price\"].dtype)\n",
    "print(df[\"sellers_amount\"].dtype)\n",
    "print(df[\"screen_size\"].dtype)\n",
    "print(df[\"memory_size\"].dtype)\n",
    "print(df[\"battery_size\"].dtype)\n",
    "\n",
    "print(df[\"brand_name\"].dtype)\n",
    "print(df[\"os\"].dtype)\n",
    "print(df[\"release_date\"].dtype)"
   ],
   "id": "877b7a747409a6f3",
   "outputs": [
    {
     "name": "stdout",
     "output_type": "stream",
     "text": [
      "int64\n",
      "int64\n",
      "float64\n",
      "float64\n",
      "float64\n",
      "int64\n",
      "float64\n",
      "float64\n",
      "float64\n",
      "float64\n",
      "float64\n",
      "float64\n"
     ]
    }
   ],
   "execution_count": 35
  },
  {
   "metadata": {
    "ExecuteTime": {
     "end_time": "2024-09-18T18:41:10.454842Z",
     "start_time": "2024-09-18T18:41:10.439862Z"
    }
   },
   "cell_type": "code",
   "source": [
    "df = df.drop(\"os\",axis=1)\n",
    "df = df.drop(\"brand_name\",axis=1)\n",
    "df = df.drop(\"lowest_price\",axis=1)\n",
    "df = df.drop(\"highest_price\",axis=1)\n",
    "df = df.drop(\"release_date\",axis=1)\n",
    "print(df)"
   ],
   "id": "3be7c51908b9cb31",
   "outputs": [
    {
     "name": "stdout",
     "output_type": "stream",
     "text": [
      "      model_name  popularity  best_price  sellers_amount  screen_size  \\\n",
      "0              0         422      1690.0              36         5.00   \n",
      "1              1         323      1803.0              36         5.00   \n",
      "2              1         299      1803.0              36         5.00   \n",
      "3              1         287      1803.0              36         5.00   \n",
      "4              2        1047      1999.0              10         5.71   \n",
      "...          ...         ...         ...             ...          ...   \n",
      "1219        1063        1101     22685.0              61         6.50   \n",
      "1220        1064         530     24600.0              28         6.50   \n",
      "1221        1065        1174      8804.0              18         6.26   \n",
      "1222        1066         752     18755.0               2         6.65   \n",
      "1223        1067         952       907.0              75         3.50   \n",
      "\n",
      "      memory_size  battery_size  \n",
      "0             8.0        2000.0  \n",
      "1            16.0        2000.0  \n",
      "2            16.0        2000.0  \n",
      "3            16.0        2000.0  \n",
      "4            16.0        3000.0  \n",
      "...           ...           ...  \n",
      "1219         64.0        3174.0  \n",
      "1220         64.0        3174.0  \n",
      "1221        128.0        3750.0  \n",
      "1222        128.0        4500.0  \n",
      "1223          NaN        1750.0  \n",
      "\n",
      "[1224 rows x 7 columns]\n"
     ]
    }
   ],
   "execution_count": 36
  },
  {
   "metadata": {
    "ExecuteTime": {
     "end_time": "2024-09-18T18:44:28.385270Z",
     "start_time": "2024-09-18T18:44:28.371300Z"
    }
   },
   "cell_type": "code",
   "source": "df.to_csv(\"out_phones_dataset.csv\")",
   "id": "1a7cfdbf00a47cb7",
   "outputs": [],
   "execution_count": 37
  },
  {
   "metadata": {},
   "cell_type": "markdown",
   "source": [
    "Данные, которые можно извлечь:\n",
    "\n",
    "1. Определить модели устройств, которые являются наиболее популярными на рынке, исходя из их популярности и количества продавцов.\n",
    "\n",
    "2. Оценить, какие устройства предлагают лучшие цены, и как цена соотносится с другими характеристиками, такими как размер экрана и объем памяти.\n",
    "\n",
    "3. Сравнить устройства по их характеристикам, таким как размер экрана, объем памяти и размер батареи, чтобы выявить лучшие варианты по этим параметрам.\n",
    "\n",
    "4. Выявить тренды в предпочтениях потребителей, например, как изменения в размере экрана или объеме памяти влияют на популярность устройства и его цену.\n"
   ],
   "id": "8db1228c73eab8f7"
  }
 ],
 "metadata": {
  "kernelspec": {
   "display_name": "Python 3",
   "language": "python",
   "name": "python3"
  },
  "language_info": {
   "codemirror_mode": {
    "name": "ipython",
    "version": 2
   },
   "file_extension": ".py",
   "mimetype": "text/x-python",
   "name": "python",
   "nbconvert_exporter": "python",
   "pygments_lexer": "ipython2",
   "version": "2.7.6"
  }
 },
 "nbformat": 4,
 "nbformat_minor": 5
}
